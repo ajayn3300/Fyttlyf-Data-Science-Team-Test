{
 "cells": [
  {
   "cell_type": "code",
   "execution_count": 2,
   "id": "314c5339",
   "metadata": {},
   "outputs": [],
   "source": [
    "# libraries\n",
    "import pandas as pd\n",
    "import numpy as np\n",
    "import seaborn as sns\n",
    "import matplotlib.pyplot as plt\n",
    "\n",
    "from sklearn.model_selection import train_test_split\n",
    "from sklearn.preprocessing import MinMaxScaler\n",
    "from sklearn.linear_model import LinearRegression\n",
    "# necessary libraries will be imported further "
   ]
  },
  {
   "cell_type": "markdown",
   "id": "f16466aa",
   "metadata": {},
   "source": [
    "# PART 0 : Reading the Data"
   ]
  },
  {
   "cell_type": "code",
   "execution_count": 3,
   "id": "c713ddc8",
   "metadata": {},
   "outputs": [],
   "source": [
    "#reading csv\n",
    "data=pd.read_csv(r'C:\\Users\\ajay\\Downloads\\Fytlyff_DS_Interview.csv')"
   ]
  },
  {
   "cell_type": "code",
   "execution_count": 4,
   "id": "ea8bab9c",
   "metadata": {},
   "outputs": [
    {
     "data": {
      "text/html": [
       "<div>\n",
       "<style scoped>\n",
       "    .dataframe tbody tr th:only-of-type {\n",
       "        vertical-align: middle;\n",
       "    }\n",
       "\n",
       "    .dataframe tbody tr th {\n",
       "        vertical-align: top;\n",
       "    }\n",
       "\n",
       "    .dataframe thead th {\n",
       "        text-align: right;\n",
       "    }\n",
       "</style>\n",
       "<table border=\"1\" class=\"dataframe\">\n",
       "  <thead>\n",
       "    <tr style=\"text-align: right;\">\n",
       "      <th></th>\n",
       "      <th>Year</th>\n",
       "      <th>Month</th>\n",
       "      <th>MobileWeb_or_Web</th>\n",
       "      <th>Type_of_Customers?</th>\n",
       "      <th>Where_Are_They_comming_from?</th>\n",
       "      <th>Which_Place_in_India?</th>\n",
       "      <th>How_many_Landed_on_our_Page?</th>\n",
       "      <th>How_many_Landed_on_the_our_Page_and_clicked_on_a_button?</th>\n",
       "      <th>How_many_Landed_on_the_our_Page_and_clicked_on_a_button_and_started_filling_the_Form?</th>\n",
       "      <th>How_many_Landed_on_the_our_Page_and_clicked_on_a_button_and_started_filling_the_Form_and_Completed_and_submited_the_form?</th>\n",
       "    </tr>\n",
       "  </thead>\n",
       "  <tbody>\n",
       "    <tr>\n",
       "      <th>0</th>\n",
       "      <td>2019</td>\n",
       "      <td>Jan</td>\n",
       "      <td>Desktop_Website</td>\n",
       "      <td>Existing_Customer</td>\n",
       "      <td>Came_From_Google</td>\n",
       "      <td>Bangalore</td>\n",
       "      <td>NaN</td>\n",
       "      <td>NaN</td>\n",
       "      <td>56892</td>\n",
       "      <td>17178</td>\n",
       "    </tr>\n",
       "    <tr>\n",
       "      <th>1</th>\n",
       "      <td>2019</td>\n",
       "      <td>Jan</td>\n",
       "      <td>Desktop_Website</td>\n",
       "      <td>Existing_Customer</td>\n",
       "      <td>Came_From_Google</td>\n",
       "      <td>Chennai</td>\n",
       "      <td>NaN</td>\n",
       "      <td>NaN</td>\n",
       "      <td>41460</td>\n",
       "      <td>11916</td>\n",
       "    </tr>\n",
       "    <tr>\n",
       "      <th>2</th>\n",
       "      <td>2019</td>\n",
       "      <td>Jan</td>\n",
       "      <td>Desktop_Website</td>\n",
       "      <td>Existing_Customer</td>\n",
       "      <td>Came_From_Google</td>\n",
       "      <td>Dehradun</td>\n",
       "      <td>NaN</td>\n",
       "      <td>NaN</td>\n",
       "      <td>55561</td>\n",
       "      <td>19461</td>\n",
       "    </tr>\n",
       "  </tbody>\n",
       "</table>\n",
       "</div>"
      ],
      "text/plain": [
       "   Year Month MobileWeb_or_Web Type_of_Customers?  \\\n",
       "0  2019   Jan  Desktop_Website  Existing_Customer   \n",
       "1  2019   Jan  Desktop_Website  Existing_Customer   \n",
       "2  2019   Jan  Desktop_Website  Existing_Customer   \n",
       "\n",
       "  Where_Are_They_comming_from? Which_Place_in_India?  \\\n",
       "0             Came_From_Google             Bangalore   \n",
       "1             Came_From_Google               Chennai   \n",
       "2             Came_From_Google              Dehradun   \n",
       "\n",
       "   How_many_Landed_on_our_Page?  \\\n",
       "0                           NaN   \n",
       "1                           NaN   \n",
       "2                           NaN   \n",
       "\n",
       "   How_many_Landed_on_the_our_Page_and_clicked_on_a_button?  \\\n",
       "0                                                NaN          \n",
       "1                                                NaN          \n",
       "2                                                NaN          \n",
       "\n",
       "   How_many_Landed_on_the_our_Page_and_clicked_on_a_button_and_started_filling_the_Form?  \\\n",
       "0                                              56892                                       \n",
       "1                                              41460                                       \n",
       "2                                              55561                                       \n",
       "\n",
       "   How_many_Landed_on_the_our_Page_and_clicked_on_a_button_and_started_filling_the_Form_and_Completed_and_submited_the_form?  \n",
       "0                                              17178                                                                          \n",
       "1                                              11916                                                                          \n",
       "2                                              19461                                                                          "
      ]
     },
     "execution_count": 4,
     "metadata": {},
     "output_type": "execute_result"
    }
   ],
   "source": [
    "#head\n",
    "data.head(3)"
   ]
  },
  {
   "cell_type": "code",
   "execution_count": 5,
   "id": "0f7beee2",
   "metadata": {},
   "outputs": [
    {
     "data": {
      "text/plain": [
       "(2160, 10)"
      ]
     },
     "execution_count": 5,
     "metadata": {},
     "output_type": "execute_result"
    }
   ],
   "source": [
    "\n",
    "#shape of data\n",
    "data.shape"
   ]
  },
  {
   "cell_type": "markdown",
   "id": "c5eb02d4",
   "metadata": {},
   "source": [
    "\n",
    "**Observe the column names and the data types in each column**"
   ]
  },
  {
   "cell_type": "code",
   "execution_count": 6,
   "id": "f74a3b29",
   "metadata": {},
   "outputs": [
    {
     "name": "stdout",
     "output_type": "stream",
     "text": [
      "<class 'pandas.core.frame.DataFrame'>\n",
      "RangeIndex: 2160 entries, 0 to 2159\n",
      "Data columns (total 10 columns):\n",
      " #   Column                                                                                                                     Non-Null Count  Dtype  \n",
      "---  ------                                                                                                                     --------------  -----  \n",
      " 0   Year                                                                                                                       2160 non-null   int64  \n",
      " 1   Month                                                                                                                      2160 non-null   object \n",
      " 2   MobileWeb_or_Web                                                                                                           2160 non-null   object \n",
      " 3   Type_of_Customers?                                                                                                         2160 non-null   object \n",
      " 4   Where_Are_They_comming_from?                                                                                               2160 non-null   object \n",
      " 5   Which_Place_in_India?                                                                                                      2160 non-null   object \n",
      " 6   How_many_Landed_on_our_Page?                                                                                               1080 non-null   float64\n",
      " 7   How_many_Landed_on_the_our_Page_and_clicked_on_a_button?                                                                   1080 non-null   float64\n",
      " 8   How_many_Landed_on_the_our_Page_and_clicked_on_a_button_and_started_filling_the_Form?                                      2160 non-null   int64  \n",
      " 9   How_many_Landed_on_the_our_Page_and_clicked_on_a_button_and_started_filling_the_Form_and_Completed_and_submited_the_form?  2160 non-null   int64  \n",
      "dtypes: float64(2), int64(3), object(5)\n",
      "memory usage: 168.9+ KB\n"
     ]
    }
   ],
   "source": [
    "#data info\n",
    "data.info()"
   ]
  },
  {
   "cell_type": "markdown",
   "id": "05b9eadc",
   "metadata": {},
   "source": [
    "            Data has null values"
   ]
  },
  {
   "cell_type": "markdown",
   "id": "6ef3da68",
   "metadata": {},
   "source": [
    "# Part 1 :Data Cleaning"
   ]
  },
  {
   "cell_type": "markdown",
   "id": "006b1525",
   "metadata": {},
   "source": [
    "***Write a function called data_cleaning() which, when called, would perform the following activity:***\n",
    "1. Replaces the NA values with 0s in the data\\\n",
    "2. In column ‘B’ replace Jan with 1, feb with 2, march with 3 and so on…\\\n",
    "3. In column ‘E’ Replace “Came_From_Google” with “Google” and “Landed_on_the_page_Directly” with “Direct_traffic” \n"
   ]
  },
  {
   "cell_type": "code",
   "execution_count": 7,
   "id": "2a3dab1a",
   "metadata": {},
   "outputs": [],
   "source": [
    "# function\n",
    "def data_cleaning(df):\n",
    "    # replace NaN values with\n",
    "    dat=df.fillna(0)\n",
    "    \n",
    "    #In column ‘B’ replace Jan with 1, feb with 2, march with 3 and so on…\n",
    "    for i,j in enumerate(dat['Month'].unique()):\n",
    "        dat=dat.replace({'Month':{j:i+1}})    \n",
    "\n",
    "    # In column ‘E’ Replace “Came_From_Google” with “Google” and “Landed_on_the_page_Directly” with “Direct_traffic” \n",
    "    dat=dat.replace({'Where_Are_They_comming_from?':{'Came_From_Google':'Google',\n",
    "                                                                                    'Landed_on_the_page_Directly':'Direct_traffic'}})\n",
    "    \n",
    "    return dat"
   ]
  },
  {
   "cell_type": "code",
   "execution_count": 8,
   "id": "79eeae8c",
   "metadata": {},
   "outputs": [],
   "source": [
    "# testing function and cleaning data\n",
    "\n",
    "data=data_cleaning(data)"
   ]
  },
  {
   "cell_type": "markdown",
   "id": "7332c158",
   "metadata": {},
   "source": [
    "            Working Well!"
   ]
  },
  {
   "cell_type": "markdown",
   "id": "9f050d70",
   "metadata": {},
   "source": [
    "# Part 2: Descriptive statistics\n",
    "\n",
    "● Write a function called descriptive_stats() which, when called, would perform the following activity:\n",
    "1. Generates the summary statistics (Mean, Median, Quartile, standard deviation) of all the numerical\n",
    "columns\n",
    "2. Produce a list of all the unique values & data types present in the non-numeric columns"
   ]
  },
  {
   "cell_type": "code",
   "execution_count": 9,
   "id": "f54fe23a",
   "metadata": {},
   "outputs": [],
   "source": [
    "# function\n",
    "def descriptive_stats(df,type=None):                # here we have to pass which type of features we want stas :object for categorical ,num for numerical \n",
    "    if type=='object':        \n",
    "        return df.describe(include=['O'])\n",
    "    elif type=='num':\n",
    "        return df.describe(include=['int','float'])\n",
    "    else:\n",
    "        return df.describe(include=['O','int','float'])"
   ]
  },
  {
   "cell_type": "code",
   "execution_count": 10,
   "id": "5c063245",
   "metadata": {
    "scrolled": true
   },
   "outputs": [
    {
     "data": {
      "text/html": [
       "<div>\n",
       "<style scoped>\n",
       "    .dataframe tbody tr th:only-of-type {\n",
       "        vertical-align: middle;\n",
       "    }\n",
       "\n",
       "    .dataframe tbody tr th {\n",
       "        vertical-align: top;\n",
       "    }\n",
       "\n",
       "    .dataframe thead th {\n",
       "        text-align: right;\n",
       "    }\n",
       "</style>\n",
       "<table border=\"1\" class=\"dataframe\">\n",
       "  <thead>\n",
       "    <tr style=\"text-align: right;\">\n",
       "      <th></th>\n",
       "      <th>MobileWeb_or_Web</th>\n",
       "      <th>Type_of_Customers?</th>\n",
       "      <th>Where_Are_They_comming_from?</th>\n",
       "      <th>Which_Place_in_India?</th>\n",
       "    </tr>\n",
       "  </thead>\n",
       "  <tbody>\n",
       "    <tr>\n",
       "      <th>count</th>\n",
       "      <td>2160</td>\n",
       "      <td>2160</td>\n",
       "      <td>2160</td>\n",
       "      <td>2160</td>\n",
       "    </tr>\n",
       "    <tr>\n",
       "      <th>unique</th>\n",
       "      <td>2</td>\n",
       "      <td>2</td>\n",
       "      <td>3</td>\n",
       "      <td>5</td>\n",
       "    </tr>\n",
       "    <tr>\n",
       "      <th>top</th>\n",
       "      <td>Desktop_Website</td>\n",
       "      <td>Existing_Customer</td>\n",
       "      <td>Google</td>\n",
       "      <td>Bangalore</td>\n",
       "    </tr>\n",
       "    <tr>\n",
       "      <th>freq</th>\n",
       "      <td>1080</td>\n",
       "      <td>1080</td>\n",
       "      <td>720</td>\n",
       "      <td>432</td>\n",
       "    </tr>\n",
       "  </tbody>\n",
       "</table>\n",
       "</div>"
      ],
      "text/plain": [
       "       MobileWeb_or_Web Type_of_Customers? Where_Are_They_comming_from?  \\\n",
       "count              2160               2160                         2160   \n",
       "unique                2                  2                            3   \n",
       "top     Desktop_Website  Existing_Customer                       Google   \n",
       "freq               1080               1080                          720   \n",
       "\n",
       "       Which_Place_in_India?  \n",
       "count                   2160  \n",
       "unique                     5  \n",
       "top                Bangalore  \n",
       "freq                     432  "
      ]
     },
     "execution_count": 10,
     "metadata": {},
     "output_type": "execute_result"
    }
   ],
   "source": [
    "# test function\n",
    "descriptive_stats(data,'object')\n"
   ]
  },
  {
   "cell_type": "code",
   "execution_count": 11,
   "id": "21301409",
   "metadata": {},
   "outputs": [
    {
     "data": {
      "text/html": [
       "<div>\n",
       "<style scoped>\n",
       "    .dataframe tbody tr th:only-of-type {\n",
       "        vertical-align: middle;\n",
       "    }\n",
       "\n",
       "    .dataframe tbody tr th {\n",
       "        vertical-align: top;\n",
       "    }\n",
       "\n",
       "    .dataframe thead th {\n",
       "        text-align: right;\n",
       "    }\n",
       "</style>\n",
       "<table border=\"1\" class=\"dataframe\">\n",
       "  <thead>\n",
       "    <tr style=\"text-align: right;\">\n",
       "      <th></th>\n",
       "      <th>Year</th>\n",
       "      <th>Month</th>\n",
       "      <th>How_many_Landed_on_our_Page?</th>\n",
       "      <th>How_many_Landed_on_the_our_Page_and_clicked_on_a_button?</th>\n",
       "      <th>How_many_Landed_on_the_our_Page_and_clicked_on_a_button_and_started_filling_the_Form?</th>\n",
       "      <th>How_many_Landed_on_the_our_Page_and_clicked_on_a_button_and_started_filling_the_Form_and_Completed_and_submited_the_form?</th>\n",
       "    </tr>\n",
       "  </thead>\n",
       "  <tbody>\n",
       "    <tr>\n",
       "      <th>count</th>\n",
       "      <td>2160.000000</td>\n",
       "      <td>2160.000000</td>\n",
       "      <td>2.160000e+03</td>\n",
       "      <td>2.160000e+03</td>\n",
       "      <td>2.160000e+03</td>\n",
       "      <td>2.160000e+03</td>\n",
       "    </tr>\n",
       "    <tr>\n",
       "      <th>mean</th>\n",
       "      <td>2020.000000</td>\n",
       "      <td>6.500000</td>\n",
       "      <td>3.922474e+05</td>\n",
       "      <td>1.792281e+05</td>\n",
       "      <td>1.510725e+05</td>\n",
       "      <td>5.922129e+04</td>\n",
       "    </tr>\n",
       "    <tr>\n",
       "      <th>std</th>\n",
       "      <td>0.816686</td>\n",
       "      <td>3.452852</td>\n",
       "      <td>9.555773e+05</td>\n",
       "      <td>3.951562e+05</td>\n",
       "      <td>2.353538e+05</td>\n",
       "      <td>8.646564e+04</td>\n",
       "    </tr>\n",
       "    <tr>\n",
       "      <th>min</th>\n",
       "      <td>2019.000000</td>\n",
       "      <td>1.000000</td>\n",
       "      <td>0.000000e+00</td>\n",
       "      <td>0.000000e+00</td>\n",
       "      <td>3.761000e+03</td>\n",
       "      <td>7.660000e+02</td>\n",
       "    </tr>\n",
       "    <tr>\n",
       "      <th>25%</th>\n",
       "      <td>2019.000000</td>\n",
       "      <td>3.750000</td>\n",
       "      <td>0.000000e+00</td>\n",
       "      <td>0.000000e+00</td>\n",
       "      <td>3.360800e+04</td>\n",
       "      <td>1.157725e+04</td>\n",
       "    </tr>\n",
       "    <tr>\n",
       "      <th>50%</th>\n",
       "      <td>2020.000000</td>\n",
       "      <td>6.500000</td>\n",
       "      <td>1.228350e+04</td>\n",
       "      <td>4.212500e+03</td>\n",
       "      <td>7.064950e+04</td>\n",
       "      <td>2.700450e+04</td>\n",
       "    </tr>\n",
       "    <tr>\n",
       "      <th>75%</th>\n",
       "      <td>2021.000000</td>\n",
       "      <td>9.250000</td>\n",
       "      <td>3.816422e+05</td>\n",
       "      <td>1.730452e+05</td>\n",
       "      <td>1.659590e+05</td>\n",
       "      <td>7.185350e+04</td>\n",
       "    </tr>\n",
       "    <tr>\n",
       "      <th>max</th>\n",
       "      <td>2021.000000</td>\n",
       "      <td>12.000000</td>\n",
       "      <td>1.127413e+07</td>\n",
       "      <td>4.079301e+06</td>\n",
       "      <td>3.022858e+06</td>\n",
       "      <td>1.251258e+06</td>\n",
       "    </tr>\n",
       "  </tbody>\n",
       "</table>\n",
       "</div>"
      ],
      "text/plain": [
       "              Year        Month  How_many_Landed_on_our_Page?  \\\n",
       "count  2160.000000  2160.000000                  2.160000e+03   \n",
       "mean   2020.000000     6.500000                  3.922474e+05   \n",
       "std       0.816686     3.452852                  9.555773e+05   \n",
       "min    2019.000000     1.000000                  0.000000e+00   \n",
       "25%    2019.000000     3.750000                  0.000000e+00   \n",
       "50%    2020.000000     6.500000                  1.228350e+04   \n",
       "75%    2021.000000     9.250000                  3.816422e+05   \n",
       "max    2021.000000    12.000000                  1.127413e+07   \n",
       "\n",
       "       How_many_Landed_on_the_our_Page_and_clicked_on_a_button?  \\\n",
       "count                                       2.160000e+03          \n",
       "mean                                        1.792281e+05          \n",
       "std                                         3.951562e+05          \n",
       "min                                         0.000000e+00          \n",
       "25%                                         0.000000e+00          \n",
       "50%                                         4.212500e+03          \n",
       "75%                                         1.730452e+05          \n",
       "max                                         4.079301e+06          \n",
       "\n",
       "       How_many_Landed_on_the_our_Page_and_clicked_on_a_button_and_started_filling_the_Form?  \\\n",
       "count                                       2.160000e+03                                       \n",
       "mean                                        1.510725e+05                                       \n",
       "std                                         2.353538e+05                                       \n",
       "min                                         3.761000e+03                                       \n",
       "25%                                         3.360800e+04                                       \n",
       "50%                                         7.064950e+04                                       \n",
       "75%                                         1.659590e+05                                       \n",
       "max                                         3.022858e+06                                       \n",
       "\n",
       "       How_many_Landed_on_the_our_Page_and_clicked_on_a_button_and_started_filling_the_Form_and_Completed_and_submited_the_form?  \n",
       "count                                       2.160000e+03                                                                          \n",
       "mean                                        5.922129e+04                                                                          \n",
       "std                                         8.646564e+04                                                                          \n",
       "min                                         7.660000e+02                                                                          \n",
       "25%                                         1.157725e+04                                                                          \n",
       "50%                                         2.700450e+04                                                                          \n",
       "75%                                         7.185350e+04                                                                          \n",
       "max                                         1.251258e+06                                                                          "
      ]
     },
     "execution_count": 11,
     "metadata": {},
     "output_type": "execute_result"
    }
   ],
   "source": [
    "data.describe()"
   ]
  },
  {
   "cell_type": "markdown",
   "id": "fac53a0a",
   "metadata": {},
   "source": [
    "# Part 3: Prescriptive statistics\n",
    "\n",
    "**Can you write code and present the data which would help us answer (Text in “” are column names) :**\\\n",
    "1. “Which_Place_in_India?”  has the highest “How_many_Landed_on_the_our_Page?”\n",
    "2. “How_many_Landed_on_the_our_Page_and_clicked_on_a_button_and_started_filling_the_Form_and_Completed_and_submited_the_form?” divided by “How_many_Landed_on _our_Page?” is highest for “Which_Place_in_India?”  \n"
   ]
  },
  {
   "cell_type": "code",
   "execution_count": 12,
   "id": "4306103e",
   "metadata": {},
   "outputs": [
    {
     "data": {
      "text/html": [
       "<div>\n",
       "<style scoped>\n",
       "    .dataframe tbody tr th:only-of-type {\n",
       "        vertical-align: middle;\n",
       "    }\n",
       "\n",
       "    .dataframe tbody tr th {\n",
       "        vertical-align: top;\n",
       "    }\n",
       "\n",
       "    .dataframe thead th {\n",
       "        text-align: right;\n",
       "    }\n",
       "</style>\n",
       "<table border=\"1\" class=\"dataframe\">\n",
       "  <thead>\n",
       "    <tr style=\"text-align: right;\">\n",
       "      <th></th>\n",
       "      <th>Which_Place_in_India?</th>\n",
       "      <th>How_many_Landed_on_our_Page?</th>\n",
       "    </tr>\n",
       "  </thead>\n",
       "  <tbody>\n",
       "    <tr>\n",
       "      <th>4</th>\n",
       "      <td>Pune</td>\n",
       "      <td>319132898.0</td>\n",
       "    </tr>\n",
       "  </tbody>\n",
       "</table>\n",
       "</div>"
      ],
      "text/plain": [
       "  Which_Place_in_India?  How_many_Landed_on_our_Page?\n",
       "4                  Pune                   319132898.0"
      ]
     },
     "execution_count": 12,
     "metadata": {},
     "output_type": "execute_result"
    }
   ],
   "source": [
    "# 1. “Which_Place_in_India?” has the highest “How_many_Landed_on_the_our_Page?”\n",
    "\n",
    "data.groupby(['Which_Place_in_India?'])['How_many_Landed_on_our_Page?'].sum().reset_index().sort_values('How_many_Landed_on_our_Page?',ascending=False).head(1)"
   ]
  },
  {
   "cell_type": "code",
   "execution_count": 13,
   "id": "f7c27882",
   "metadata": {},
   "outputs": [
    {
     "data": {
      "text/html": [
       "<div>\n",
       "<style scoped>\n",
       "    .dataframe tbody tr th:only-of-type {\n",
       "        vertical-align: middle;\n",
       "    }\n",
       "\n",
       "    .dataframe tbody tr th {\n",
       "        vertical-align: top;\n",
       "    }\n",
       "\n",
       "    .dataframe thead th {\n",
       "        text-align: right;\n",
       "    }\n",
       "</style>\n",
       "<table border=\"1\" class=\"dataframe\">\n",
       "  <thead>\n",
       "    <tr style=\"text-align: right;\">\n",
       "      <th></th>\n",
       "      <th>Place</th>\n",
       "      <th>Highest</th>\n",
       "    </tr>\n",
       "  </thead>\n",
       "  <tbody>\n",
       "    <tr>\n",
       "      <th>0</th>\n",
       "      <td>Bangalore</td>\n",
       "      <td>85.330440</td>\n",
       "    </tr>\n",
       "    <tr>\n",
       "      <th>1</th>\n",
       "      <td>Chennai</td>\n",
       "      <td>69.368575</td>\n",
       "    </tr>\n",
       "    <tr>\n",
       "      <th>2</th>\n",
       "      <td>Dehradun</td>\n",
       "      <td>60.873038</td>\n",
       "    </tr>\n",
       "    <tr>\n",
       "      <th>3</th>\n",
       "      <td>Indore</td>\n",
       "      <td>80.684003</td>\n",
       "    </tr>\n",
       "    <tr>\n",
       "      <th>4</th>\n",
       "      <td>Pune</td>\n",
       "      <td>47.452202</td>\n",
       "    </tr>\n",
       "  </tbody>\n",
       "</table>\n",
       "</div>"
      ],
      "text/plain": [
       "       Place    Highest\n",
       "0  Bangalore  85.330440\n",
       "1    Chennai  69.368575\n",
       "2   Dehradun  60.873038\n",
       "3     Indore  80.684003\n",
       "4       Pune  47.452202"
      ]
     },
     "execution_count": 13,
     "metadata": {},
     "output_type": "execute_result"
    }
   ],
   "source": [
    "# 2 .“How_many_Landed_on_the_our_Page_and_clicked_on_a_button_and_started_filling_the_Form_and_Completed_and_submited_the_form?” divided by “How_many_Landed_on _our_Page?” is highest for “Which_Place_in_India?”\n",
    "\n",
    "\n",
    "    # lets make a dataframe first which will include average landed on page of  every place\n",
    "average_landed=data.groupby('Which_Place_in_India?')['How_many_Landed_on_our_Page?'].mean().reset_index()\n",
    "    \n",
    "    # let's make another dataframe which will include sum of last column i.e landed to submit\n",
    "sum_submit=data.groupby('Which_Place_in_India?')['How_many_Landed_on_the_our_Page_and_clicked_on_a_button_and_started_filling_the_Form_and_Completed_and_submited_the_form?'].sum().reset_index()\n",
    "\n",
    "    # last dataframe which will tell highest\n",
    "pd.DataFrame({'Place':average_landed['Which_Place_in_India?'],\n",
    "             'Highest':sum_submit['How_many_Landed_on_the_our_Page_and_clicked_on_a_button_and_started_filling_the_Form_and_Completed_and_submited_the_form?']/average_landed['How_many_Landed_on_our_Page?']})"
   ]
  },
  {
   "cell_type": "markdown",
   "id": "ded906d4",
   "metadata": {},
   "source": [
    "            Highest is in Bangalore"
   ]
  },
  {
   "cell_type": "markdown",
   "id": "b7a5483f",
   "metadata": {},
   "source": [
    "# Part 4: Simple Machine learning questions"
   ]
  },
  {
   "cell_type": "markdown",
   "id": "cbf52a7f",
   "metadata": {},
   "source": [
    "**Write a function called pred_future() which, when called, would perform the following activity:**\\\n",
    "1. Predict “How_many_Landed_on_the_our_Page_and_clicked_on_a_button_and_started_filling_the_Form_and_Completed_and_submited_the_form?” for the complete year of 2022\n",
    "2. Generate the overall MAPE of your prediction for the year 2021"
   ]
  },
  {
   "cell_type": "markdown",
   "id": "c4c0e70d",
   "metadata": {},
   "source": [
    "            For creating and applying model we need to do feature engineering and feature scaling first "
   ]
  },
  {
   "cell_type": "markdown",
   "id": "41a02a33",
   "metadata": {},
   "source": [
    "**Feature Engineering**\\\n",
    "                . Feature Engineering and feature scaling is must for implementing a Model. "
   ]
  },
  {
   "cell_type": "code",
   "execution_count": 14,
   "id": "853263e4",
   "metadata": {},
   "outputs": [
    {
     "data": {
      "text/html": [
       "<div>\n",
       "<style scoped>\n",
       "    .dataframe tbody tr th:only-of-type {\n",
       "        vertical-align: middle;\n",
       "    }\n",
       "\n",
       "    .dataframe tbody tr th {\n",
       "        vertical-align: top;\n",
       "    }\n",
       "\n",
       "    .dataframe thead th {\n",
       "        text-align: right;\n",
       "    }\n",
       "</style>\n",
       "<table border=\"1\" class=\"dataframe\">\n",
       "  <thead>\n",
       "    <tr style=\"text-align: right;\">\n",
       "      <th></th>\n",
       "      <th>Year</th>\n",
       "      <th>Month</th>\n",
       "      <th>MobileWeb_or_Web</th>\n",
       "      <th>Type_of_Customers?</th>\n",
       "      <th>Where_Are_They_comming_from?</th>\n",
       "      <th>Which_Place_in_India?</th>\n",
       "      <th>How_many_Landed_on_our_Page?</th>\n",
       "      <th>How_many_Landed_on_the_our_Page_and_clicked_on_a_button?</th>\n",
       "      <th>How_many_Landed_on_the_our_Page_and_clicked_on_a_button_and_started_filling_the_Form?</th>\n",
       "      <th>How_many_Landed_on_the_our_Page_and_clicked_on_a_button_and_started_filling_the_Form_and_Completed_and_submited_the_form?</th>\n",
       "    </tr>\n",
       "  </thead>\n",
       "  <tbody>\n",
       "    <tr>\n",
       "      <th>0</th>\n",
       "      <td>2019</td>\n",
       "      <td>1</td>\n",
       "      <td>Desktop_Website</td>\n",
       "      <td>Existing_Customer</td>\n",
       "      <td>Google</td>\n",
       "      <td>Bangalore</td>\n",
       "      <td>0.0</td>\n",
       "      <td>0.0</td>\n",
       "      <td>56892</td>\n",
       "      <td>17178</td>\n",
       "    </tr>\n",
       "    <tr>\n",
       "      <th>1</th>\n",
       "      <td>2019</td>\n",
       "      <td>1</td>\n",
       "      <td>Desktop_Website</td>\n",
       "      <td>Existing_Customer</td>\n",
       "      <td>Google</td>\n",
       "      <td>Chennai</td>\n",
       "      <td>0.0</td>\n",
       "      <td>0.0</td>\n",
       "      <td>41460</td>\n",
       "      <td>11916</td>\n",
       "    </tr>\n",
       "    <tr>\n",
       "      <th>2</th>\n",
       "      <td>2019</td>\n",
       "      <td>1</td>\n",
       "      <td>Desktop_Website</td>\n",
       "      <td>Existing_Customer</td>\n",
       "      <td>Google</td>\n",
       "      <td>Dehradun</td>\n",
       "      <td>0.0</td>\n",
       "      <td>0.0</td>\n",
       "      <td>55561</td>\n",
       "      <td>19461</td>\n",
       "    </tr>\n",
       "    <tr>\n",
       "      <th>3</th>\n",
       "      <td>2019</td>\n",
       "      <td>1</td>\n",
       "      <td>Desktop_Website</td>\n",
       "      <td>Existing_Customer</td>\n",
       "      <td>Google</td>\n",
       "      <td>Indore</td>\n",
       "      <td>0.0</td>\n",
       "      <td>0.0</td>\n",
       "      <td>320923</td>\n",
       "      <td>110667</td>\n",
       "    </tr>\n",
       "    <tr>\n",
       "      <th>4</th>\n",
       "      <td>2019</td>\n",
       "      <td>1</td>\n",
       "      <td>Desktop_Website</td>\n",
       "      <td>Existing_Customer</td>\n",
       "      <td>Google</td>\n",
       "      <td>Pune</td>\n",
       "      <td>0.0</td>\n",
       "      <td>0.0</td>\n",
       "      <td>220937</td>\n",
       "      <td>46033</td>\n",
       "    </tr>\n",
       "  </tbody>\n",
       "</table>\n",
       "</div>"
      ],
      "text/plain": [
       "   Year  Month MobileWeb_or_Web Type_of_Customers?  \\\n",
       "0  2019      1  Desktop_Website  Existing_Customer   \n",
       "1  2019      1  Desktop_Website  Existing_Customer   \n",
       "2  2019      1  Desktop_Website  Existing_Customer   \n",
       "3  2019      1  Desktop_Website  Existing_Customer   \n",
       "4  2019      1  Desktop_Website  Existing_Customer   \n",
       "\n",
       "  Where_Are_They_comming_from? Which_Place_in_India?  \\\n",
       "0                       Google             Bangalore   \n",
       "1                       Google               Chennai   \n",
       "2                       Google              Dehradun   \n",
       "3                       Google                Indore   \n",
       "4                       Google                  Pune   \n",
       "\n",
       "   How_many_Landed_on_our_Page?  \\\n",
       "0                           0.0   \n",
       "1                           0.0   \n",
       "2                           0.0   \n",
       "3                           0.0   \n",
       "4                           0.0   \n",
       "\n",
       "   How_many_Landed_on_the_our_Page_and_clicked_on_a_button?  \\\n",
       "0                                                0.0          \n",
       "1                                                0.0          \n",
       "2                                                0.0          \n",
       "3                                                0.0          \n",
       "4                                                0.0          \n",
       "\n",
       "   How_many_Landed_on_the_our_Page_and_clicked_on_a_button_and_started_filling_the_Form?  \\\n",
       "0                                              56892                                       \n",
       "1                                              41460                                       \n",
       "2                                              55561                                       \n",
       "3                                             320923                                       \n",
       "4                                             220937                                       \n",
       "\n",
       "   How_many_Landed_on_the_our_Page_and_clicked_on_a_button_and_started_filling_the_Form_and_Completed_and_submited_the_form?  \n",
       "0                                              17178                                                                          \n",
       "1                                              11916                                                                          \n",
       "2                                              19461                                                                          \n",
       "3                                             110667                                                                          \n",
       "4                                              46033                                                                          "
      ]
     },
     "execution_count": 14,
     "metadata": {},
     "output_type": "execute_result"
    }
   ],
   "source": [
    "data.head()"
   ]
  },
  {
   "cell_type": "code",
   "execution_count": 15,
   "id": "63a58822",
   "metadata": {},
   "outputs": [],
   "source": [
    "# binary encoding \n",
    "\n",
    "#MobileWeb_or_web\n",
    "data=data.replace({'MobileWeb_or_Web':{'Desktop_Website':0,\n",
    "                                      'Mobile_website':1}})\n",
    "#Type_of_Customers?\n",
    "data=data.replace({'Type_of_Customers?':{'Existing_Customer':0,\n",
    "                                       'New_Customer':1}})\n",
    "\n",
    "#Where_Are_They_comming_from\n",
    "data=data.replace({\"Where_Are_They_comming_from?\":{'Google':0,\n",
    "                                                  'Direct_traffic':1,\n",
    "                                                  'Unidentified_Sources':2}})\n",
    "\n",
    "#Which_Place_in_India?\n",
    "data=data.replace({'Which_Place_in_India?':{'Bangalore':0,\n",
    "                                           'Chennai':1,\n",
    "                                           'Dehradun':2,\n",
    "                                           'Indore':3,\n",
    "                                           'Pune':4}})"
   ]
  },
  {
   "cell_type": "code",
   "execution_count": 16,
   "id": "476c152c",
   "metadata": {
    "scrolled": false
   },
   "outputs": [
    {
     "data": {
      "text/html": [
       "<div>\n",
       "<style scoped>\n",
       "    .dataframe tbody tr th:only-of-type {\n",
       "        vertical-align: middle;\n",
       "    }\n",
       "\n",
       "    .dataframe tbody tr th {\n",
       "        vertical-align: top;\n",
       "    }\n",
       "\n",
       "    .dataframe thead th {\n",
       "        text-align: right;\n",
       "    }\n",
       "</style>\n",
       "<table border=\"1\" class=\"dataframe\">\n",
       "  <thead>\n",
       "    <tr style=\"text-align: right;\">\n",
       "      <th></th>\n",
       "      <th>Year</th>\n",
       "      <th>Month</th>\n",
       "      <th>MobileWeb_or_Web</th>\n",
       "      <th>Type_of_Customers?</th>\n",
       "      <th>Where_Are_They_comming_from?</th>\n",
       "      <th>Which_Place_in_India?</th>\n",
       "      <th>How_many_Landed_on_our_Page?</th>\n",
       "      <th>How_many_Landed_on_the_our_Page_and_clicked_on_a_button?</th>\n",
       "      <th>How_many_Landed_on_the_our_Page_and_clicked_on_a_button_and_started_filling_the_Form?</th>\n",
       "      <th>How_many_Landed_on_the_our_Page_and_clicked_on_a_button_and_started_filling_the_Form_and_Completed_and_submited_the_form?</th>\n",
       "    </tr>\n",
       "  </thead>\n",
       "  <tbody>\n",
       "    <tr>\n",
       "      <th>2154</th>\n",
       "      <td>2021</td>\n",
       "      <td>12</td>\n",
       "      <td>1</td>\n",
       "      <td>1</td>\n",
       "      <td>1</td>\n",
       "      <td>4</td>\n",
       "      <td>6229775.0</td>\n",
       "      <td>1498689.0</td>\n",
       "      <td>952269</td>\n",
       "      <td>338476</td>\n",
       "    </tr>\n",
       "    <tr>\n",
       "      <th>1217</th>\n",
       "      <td>2020</td>\n",
       "      <td>9</td>\n",
       "      <td>0</td>\n",
       "      <td>1</td>\n",
       "      <td>0</td>\n",
       "      <td>2</td>\n",
       "      <td>113706.0</td>\n",
       "      <td>69797.0</td>\n",
       "      <td>35051</td>\n",
       "      <td>25337</td>\n",
       "    </tr>\n",
       "    <tr>\n",
       "      <th>127</th>\n",
       "      <td>2019</td>\n",
       "      <td>3</td>\n",
       "      <td>0</td>\n",
       "      <td>0</td>\n",
       "      <td>1</td>\n",
       "      <td>2</td>\n",
       "      <td>0.0</td>\n",
       "      <td>0.0</td>\n",
       "      <td>86553</td>\n",
       "      <td>22636</td>\n",
       "    </tr>\n",
       "  </tbody>\n",
       "</table>\n",
       "</div>"
      ],
      "text/plain": [
       "      Year  Month  MobileWeb_or_Web  Type_of_Customers?  \\\n",
       "2154  2021     12                 1                   1   \n",
       "1217  2020      9                 0                   1   \n",
       "127   2019      3                 0                   0   \n",
       "\n",
       "      Where_Are_They_comming_from?  Which_Place_in_India?  \\\n",
       "2154                             1                      4   \n",
       "1217                             0                      2   \n",
       "127                              1                      2   \n",
       "\n",
       "      How_many_Landed_on_our_Page?  \\\n",
       "2154                     6229775.0   \n",
       "1217                      113706.0   \n",
       "127                            0.0   \n",
       "\n",
       "      How_many_Landed_on_the_our_Page_and_clicked_on_a_button?  \\\n",
       "2154                                          1498689.0          \n",
       "1217                                            69797.0          \n",
       "127                                                 0.0          \n",
       "\n",
       "      How_many_Landed_on_the_our_Page_and_clicked_on_a_button_and_started_filling_the_Form?  \\\n",
       "2154                                             952269                                       \n",
       "1217                                              35051                                       \n",
       "127                                               86553                                       \n",
       "\n",
       "      How_many_Landed_on_the_our_Page_and_clicked_on_a_button_and_started_filling_the_Form_and_Completed_and_submited_the_form?  \n",
       "2154                                             338476                                                                          \n",
       "1217                                              25337                                                                          \n",
       "127                                               22636                                                                          "
      ]
     },
     "execution_count": 16,
     "metadata": {},
     "output_type": "execute_result"
    }
   ],
   "source": [
    "#data sample\n",
    "data.sample(3)"
   ]
  },
  {
   "cell_type": "code",
   "execution_count": 17,
   "id": "0df7531b",
   "metadata": {},
   "outputs": [],
   "source": [
    "x=data.iloc[:,:-1]\n",
    "y=data.iloc[:,-1]"
   ]
  },
  {
   "cell_type": "markdown",
   "id": "5f3c2db5",
   "metadata": {},
   "source": [
    "**Train Test Split**"
   ]
  },
  {
   "cell_type": "code",
   "execution_count": 18,
   "id": "9846a797",
   "metadata": {},
   "outputs": [],
   "source": [
    "#library\n",
    "from sklearn.model_selection import train_test_split\n",
    "\n",
    "x_train,x_test,y_train,y_test=train_test_split(x,y,test_size=0.2)"
   ]
  },
  {
   "cell_type": "code",
   "execution_count": 19,
   "id": "570c56ac",
   "metadata": {},
   "outputs": [
    {
     "name": "stderr",
     "output_type": "stream",
     "text": [
      "C:\\Users\\ajay\\anaconda3\\lib\\site-packages\\seaborn\\distributions.py:2619: FutureWarning: `distplot` is a deprecated function and will be removed in a future version. Please adapt your code to use either `displot` (a figure-level function with similar flexibility) or `histplot` (an axes-level function for histograms).\n",
      "  warnings.warn(msg, FutureWarning)\n"
     ]
    },
    {
     "data": {
      "text/plain": [
       "<AxesSubplot:xlabel='How_many_Landed_on_the_our_Page_and_clicked_on_a_button_and_started_filling_the_Form_and_Completed_and_submited_the_form?', ylabel='Density'>"
      ]
     },
     "execution_count": 19,
     "metadata": {},
     "output_type": "execute_result"
    },
    {
     "data": {
      "image/png": "[encoded data removed]",
      "text/plain": [
       "<Figure size 432x288 with 1 Axes>"
      ]
     },
     "metadata": {
      "needs_background": "light"
     },
     "output_type": "display_data"
    }
   ],
   "source": [
    "#plot dependent variable\n",
    "sns.distplot(np.log10(y))"
   ]
  },
  {
   "cell_type": "markdown",
   "id": "52aa1190",
   "metadata": {},
   "source": [
    "**Feature Scaling**"
   ]
  },
  {
   "cell_type": "code",
   "execution_count": 20,
   "id": "9de677a6",
   "metadata": {},
   "outputs": [],
   "source": [
    "#library \n",
    "from sklearn.preprocessing import MinMaxScaler\n",
    "\n",
    "scaler=MinMaxScaler()\n",
    "\n",
    "# independet feature scaling\n",
    "x_train.iloc[:,6:]=scaler.fit_transform(x_train.iloc[:,6:])\n",
    "x_test.iloc[:,6:]=scaler.fit_transform(x_test.iloc[:,6:])\n",
    "\n",
    "#dependent feature scaling\n",
    "y_train=np.log10(y_train)\n",
    "y_test=np.log10(y_test)\n"
   ]
  },
  {
   "cell_type": "code",
   "execution_count": 21,
   "id": "32fff385",
   "metadata": {
    "scrolled": true
   },
   "outputs": [
    {
     "data": {
      "text/plain": [
       "LinearRegression()"
      ]
     },
     "execution_count": 21,
     "metadata": {},
     "output_type": "execute_result"
    }
   ],
   "source": [
    "# Linear Regression\n",
    "\n",
    "from sklearn.linear_model import LinearRegression\n",
    "\n",
    "model=LinearRegression()\n",
    "\n",
    "model.fit(x_train,y_train)"
   ]
  },
  {
   "cell_type": "markdown",
   "id": "f355a7c5",
   "metadata": {},
   "source": [
    "**NOTE**: *I am skipping some steps like outlier check , multicolinearity check etc and directly coming into main goal i.e Part 4 of this project. Therefore performance of model may vary.*"
   ]
  },
  {
   "cell_type": "code",
   "execution_count": 22,
   "id": "a110445c",
   "metadata": {},
   "outputs": [],
   "source": [
    "# Predict “How_many_Landed_on_the_our_Page_and_clicked_on_a_button_and_started_filling_the_Form_and_Completed_and_submited_the_form?” for the complete year of 2022\n",
    "\n",
    "# let's make function\n",
    "def pred_future(test):\n",
    "    pred_df=x_test.join(pd.Series(y_test,name='actual')).join(pd.Series(model.predict(x_test),index=x_test.index,name='preds')) # predicting and saving to its correspond test data\n",
    "    pred_2021=pred_df[pred_df['Year']==2021][['preds']]                                  # extracting prediction of year 2021 so we can calculate MAPE of that year\n",
    "    actual_2021=pred_df[pred_df['Year']==2021][['actual']]                              # extracting actual values for year 2012 for calculating MAPE for 202\n",
    "    \n",
    "    #calculate MAPE for 2021\n",
    "    \n",
    "    mape=np.mean(abs(actual_2021.values-pred_2021.values))*100\n",
    "    \n",
    "    print('MAPE for year 2021 is {}'.format(mape))\n",
    "    return 'Predction for year 2022 ' ,pred_2021\n",
    "    \n",
    "    "
   ]
  },
  {
   "cell_type": "code",
   "execution_count": 23,
   "id": "580f5428",
   "metadata": {
    "scrolled": true
   },
   "outputs": [
    {
     "name": "stdout",
     "output_type": "stream",
     "text": [
      "MAPE for year 2021 is 28.701484592725386\n"
     ]
    },
    {
     "data": {
      "text/plain": [
       "('Predction for year 2022 ',\n",
       "          preds\n",
       " 1516  4.751989\n",
       " 2109  4.933594\n",
       " 1720  3.517433\n",
       " 1447  4.262495\n",
       " 1782  3.687246\n",
       " ...        ...\n",
       " 1843  3.848602\n",
       " 2141  3.670824\n",
       " 1529  4.308601\n",
       " 1773  4.523420\n",
       " 2155  3.824241\n",
       " \n",
       " [139 rows x 1 columns])"
      ]
     },
     "execution_count": 23,
     "metadata": {},
     "output_type": "execute_result"
    }
   ],
   "source": [
    "# test for  function\n",
    "pred_future(x_test)"
   ]
  },
  {
   "cell_type": "markdown",
   "id": "a4267796",
   "metadata": {},
   "source": [
    "            Part 4 has been completed"
   ]
  },
  {
   "cell_type": "markdown",
   "id": "3da280a9",
   "metadata": {},
   "source": [
    "# Part 5: Visualization\n",
    "\n",
    "● Please write a code to display :\n",
    "1. A line graph for “How_many_Landed_on_the_our_Page_and_clicked_on_a_button?” for the\n",
    "different “Which_Place_in_India?” over the months of the year 2019 & 2020. (Hint : On x axis\n",
    "there should be months for 2019 & 2020 and Y axis should be the\n",
    "“How_many_Landed_on_the_our_Page_and_clicked_on_a_button?” and there should different\n",
    "lines depicting different regions of “Which_Place_in_India?”)\n",
    "2. A line graph of the actual and projected number of\n",
    "“How_many_Landed_on_the_our_Page_and_clicked_on_a_button_and_started_filling_the_Form\n",
    "_and_Completed_and_submited_the_form?” for the months of the year 2021(Actuals values) &\n",
    "2022 (Predicted values). (Hint : It should be a line graph)"
   ]
  },
  {
   "cell_type": "code",
   "execution_count": 34,
   "id": "bfc9ec8c",
   "metadata": {},
   "outputs": [
    {
     "data": {
      "text/plain": [
       "<AxesSubplot:xlabel='Month', ylabel='How_many_Landed_on_the_our_Page_and_clicked_on_a_button?'>"
      ]
     },
     "execution_count": 34,
     "metadata": {},
     "output_type": "execute_result"
    },
    {
     "data": {
      "image/png": "[encoded data removed]",
      "text/plain": [
       "<Figure size 1440x864 with 1 Axes>"
      ]
     },
     "metadata": {
      "needs_background": "light"
     },
     "output_type": "display_data"
    }
   ],
   "source": [
    "#1.\n",
    "df19_20=data[(data['Year']==2019) | (data['Year']==2020)]\n",
    "plt.figure(figsize=(20,12))\n",
    "labels=['Bangalore','Chennai','Dehradun','Indore','Pune']\n",
    "sns.barplot(data=df19_20,x='Month',y='How_many_Landed_on_the_our_Page_and_clicked_on_a_button?',hue='Which_Place_in_India?',palette='colorblind')\n",
    "\n",
    "\n"
   ]
  },
  {
   "cell_type": "code",
   "execution_count": 25,
   "id": "aba70681",
   "metadata": {},
   "outputs": [
    {
     "data": {
      "text/plain": [
       "Text(0, 0.5, 'actual vc prediction for year 2022')"
      ]
     },
     "execution_count": 25,
     "metadata": {},
     "output_type": "execute_result"
    },
    {
     "data": {
      "image/png": "[encoded data removed]",
      "text/plain": [
       "<Figure size 1080x864 with 1 Axes>"
      ]
     },
     "metadata": {
      "needs_background": "light"
     },
     "output_type": "display_data"
    }
   ],
   "source": [
    "#2.\n",
    "plt.figure(figsize=(15,12))\n",
    "# first created a dataframe so we could extract year 2021 prediction and actual, values\n",
    "d=x_test.join(pd.Series(y_test,name='actual')).join(pd.Series(model.predict(x_test),index=x_test.index,name='preds'))  \n",
    "d2021=d[d['Year']==2021]\n",
    "\n",
    "#let's plot\n",
    "sns.lineplot(data=d2021,x='Month',y='preds',ci=None)\n",
    "sns.lineplot(data=d2021,x='Month',y='actual',ci=None)\n",
    "plt.legend(['preds','actual'])\n",
    "plt.ylabel('actual vc prediction for year 2022',fontsize=13)"
   ]
  },
  {
   "cell_type": "markdown",
   "id": "55daf9f8",
   "metadata": {},
   "source": [
    "# Part 6: About the Previous projects\n",
    "● Please describe any interesting project you did in the Data Science domain in more than 250 words. Attach\n",
    "Github links if possible"
   ]
  },
  {
   "cell_type": "markdown",
   "id": "f5671422",
   "metadata": {},
   "source": [
    "**Project Title :  ANDRIOD_AUTHENTICITY_PREDICTION**"
   ]
  },
  {
   "cell_type": "markdown",
   "id": "62689632",
   "metadata": {},
   "source": [
    "**Problem Statement**: This dfset consists of apps needed permissions during installation and run-time. We collect apps from three different sources google play, third-party apps and malware dataset. This file contains more than 30,000 Android apps. features extracted at the time of installation and execution. One file contains the name of the features and others contain .apk file corresponding to it extracted permissions with respective package. Apps are collected from Google's play store, hiapk, app china, Android, mumayi , gfan slideme, and pandaapp. These .apk files collected from the last three years continuously and contain 81 distinct malware families. But, Here you are only supposed to predict whether the app is benign(0) or malware(1)."
   ]
  },
  {
   "cell_type": "markdown",
   "id": "88d177c5",
   "metadata": {},
   "source": [
    "**Attribute Information :**\n",
    "\n",
    "There are total 183 independent variables and 1 dependent feature which are as follows :\n",
    "\n",
    "1 . App :- Name of the App\n",
    "\n",
    "2 . Package :- OBB/Data package installed in root folder\n",
    "\n",
    "3 . Category :- App Category (eg. Entertainment, Adventure, puzzle, Action, Antivirus, etc.)\n",
    "\n",
    "4 . Description :- App Description\n",
    "\n",
    "5 . Rating :- Rating out of 5\n",
    "\n",
    "6 . Number of ratings :- No. of Ratings given by users\n",
    "\n",
    "7 . Price :- Price of the App\n",
    "\n",
    "8 . Related apps :- Apps related to installed App\n",
    "\n",
    "9 . Dangerous (D) permissions count :- No. of Dangerous Permissions allowed by user\n",
    "\n",
    "10 . Safe (S) permissions count :- No. of Safe Permissions allowed by user\n",
    "\n",
    "11-183 .are different types of permission\n",
    "\n",
    "184 . Class :- 0 : Benign , 1 : Malware   (***Class variable***)\n"
   ]
  },
  {
   "cell_type": "markdown",
   "id": "5689aa5f",
   "metadata": {},
   "source": [
    "**Primary Goal :** As this is a classification problem ,the primary goal of this project was to classify whether the app is malware or not."
   ]
  },
  {
   "cell_type": "markdown",
   "id": "f145ad85",
   "metadata": {},
   "source": [
    "**Problem Faced :**\n",
    "1. The main issue i faced while doing this project was when i was going through data pre-processing stage,in the stage of outlier removal ,there were total around 800 outlier data point but when i did some EDA ,i came to know that out of 800 outlier ,more than 500 datapoints were related to class 1 which were the malware apps,if i would have removed those outliers ,there would have been an issue of data leakage,therefore i did not removed all the outliers totally.\n",
    "\n",
    "2. After that ,as we know there are more than 150 independent variable ,so i performed feature extraction and feature selection to ged ridd off from the curse of high dimensionality."
   ]
  },
  {
   "cell_type": "markdown",
   "id": "ec103c20",
   "metadata": {},
   "source": [
    "**Solution :**\n",
    "1. Performed EDA to get to know about data.\n",
    "2. Went through Data wrangling and pre-processing stage.\n",
    "3. Performed Feature Extarction and Feature Selection.\n",
    "4. Performed feature scaling.\n",
    "5. train test split\n",
    "6. applied Ensembling technique called XGBoost\n",
    "7. Improved f1-score from 74 to 85. \n"
   ]
  },
  {
   "cell_type": "markdown",
   "id": "c464edf1",
   "metadata": {},
   "source": [
    "**GitHub :**https://github.com/ajayn3300/Android-Authenticity-Prediction--Classification-.git"
   ]
  },
  {
   "cell_type": "markdown",
   "id": "805a6913",
   "metadata": {},
   "source": [
    "\n",
    "# Part 7 : Time management\n",
    "\n",
    "● **Can you please share your thoughts, in less than 120 words, on “If you get selected, how will you manage\n",
    "your time for this full-time internship opportunity”**"
   ]
  },
  {
   "cell_type": "markdown",
   "id": "6de93204",
   "metadata": {},
   "source": [
    "Look, you know why i am submitting this project on exact the last date of submitting this assigment , even i started doing this project today which is last day of submission because i have already planned in my mind while i was reading about this project,i knew there is nothing that i don't know or that will take time for me to do this ,if i had known already that there are some point or things which i don't know or i have to learn these things ,i would have started this project 2 days ago I ,sacrificing other important things , hope you get it what i am trying to say.Now i will submit this project (time 15:33) and i wish i am the person you are looking for you organisation. Thank you!*"
   ]
  },
  {
   "cell_type": "code",
   "execution_count": null,
   "id": "f27914c3",
   "metadata": {},
   "outputs": [],
   "source": []
  }
 ],
 "metadata": {
  "kernelspec": {
   "display_name": "Python 3 (ipykernel)",
   "language": "python",
   "name": "python3"
  },
  "language_info": {
   "codemirror_mode": {
    "name": "ipython",
    "version": 3
   },
   "file_extension": ".py",
   "mimetype": "text/x-python",
   "name": "python",
   "nbconvert_exporter": "python",
   "pygments_lexer": "ipython3",
   "version": "3.9.12"
  }
 },
 "nbformat": 4,
 "nbformat_minor": 5
}
